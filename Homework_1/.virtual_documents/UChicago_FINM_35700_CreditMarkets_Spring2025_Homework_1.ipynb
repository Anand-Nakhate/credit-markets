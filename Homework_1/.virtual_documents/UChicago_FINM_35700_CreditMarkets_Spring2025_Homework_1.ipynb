





import pandas as pd
import numpy as np
import datetime
import matplotlib.pyplot as plt
import seaborn as sns
from scipy.interpolate import interp1d

import warnings
warnings.filterwarnings('ignore')








bond_symbology = pd.read_excel("data/bond_symbology.xlsx")
bond_symbology['start_date'] = pd.to_datetime(bond_symbology['start_date'])
bond_symbology['cpn_first'] = pd.to_datetime(bond_symbology['cpn_first'])
bond_symbology['acc_first'] = pd.to_datetime(bond_symbology['acc_first'])
bond_symbology['maturity']   = pd.to_datetime(bond_symbology['maturity'])
display(bond_symbology.head())


today = pd.to_datetime("2024-12-13") 
days_per_year = 365.25

bond_symbology['term'] = ((bond_symbology['maturity'] - bond_symbology['start_date']).dt.days / days_per_year)
bond_symbology['TTM'] = ((bond_symbology['maturity'] - today).dt.days / days_per_year)
bond_symbology['TTM'] = bond_symbology['TTM'].apply(lambda x: x if x > 0 else 0)


US_treasury_bonds = bond_symbology[(bond_symbology["class"] == "Govt") & (bond_symbology["ticker"] == "T")]
display(US_treasury_bonds.tail())





US_treasury_bonds = US_treasury_bonds.sort_values("start_date")

plt.figure(figsize=(12,6))
sns.lineplot(data=US_treasury_bonds,x="start_date",y="coupon")
plt.title("Historical Time Series of US Treasury Coupons")
plt.xlabel("Issue Date")
plt.ylabel("Coupon (%)")
plt.grid(True)
plt.show()








govt_on_the_run = pd.read_excel("data/govt_on_the_run.xlsx")
on_the_run_list = ["2Y","3Y","5Y","7Y","10Y","20Y","30Y"]

pattern = r"^GT(\d+)([A-Z])?\sGovt$"
govt_on_the_run[["tenor", "suffix"]] = govt_on_the_run["ticker"].str.extract(pattern)
govt_on_the_run["tenor"] = govt_on_the_run["tenor"] + "Y"

on_the_run_bonds = govt_on_the_run[(govt_on_the_run["tenor"].isin(on_the_run_list)) & (govt_on_the_run["suffix"].isna())].copy()
us_treasuries_on_the_run = pd.merge(US_treasury_bonds, on_the_run_bonds, on=["figi", "isin"]).drop(["suffix", "ticker_y", "date", "tenor"], axis=1).rename(columns={"ticker_x": "ticker"})

print("On-the-run US Treasury bonds")
display(us_treasuries_on_the_run)





US_treasury_bonds['issue_year'] = US_treasury_bonds['start_date'].dt.year
US_treasury_bonds['maturity_year'] = US_treasury_bonds['maturity'].dt.year

issued_by_year = US_treasury_bonds.groupby('issue_year')['amt_out'].sum().reset_index().rename(columns={'issue_year': 'year', 'amt_out': 'total_issued'})
matured_by_year = US_treasury_bonds.groupby('maturity_year')['amt_out'].sum().reset_index().rename(columns={'maturity_year': 'year', 'amt_out': 'total_matured'})


issued_by_year = issued_by_year[issued_by_year['year'] >= 2015]
matured_by_year = matured_by_year[matured_by_year['year'] >= 2015]

print("Total Issued by Year (>= 2015)")
display(issued_by_year)

print("Total Matured by Year (>= 2015)")
display(matured_by_year)


yearly_data = pd.merge(issued_by_year,matured_by_year,on='year',how='outer').fillna(0)  

plt.figure(figsize=(24,6))
bar_width = 0.3
x_positions = np.arange(len(yearly_data['year']))
plt.bar(x_positions - bar_width/2, yearly_data['total_issued'], width=bar_width, label='Issued', color='royalblue')
plt.bar(x_positions + bar_width/2, yearly_data['total_matured'], width=bar_width, label='Matured', color='darkorange')
plt.xticks(x_positions, yearly_data['year'], rotation=0)
plt.xlabel("Year")
plt.ylabel("Amount Outstanding ($MM)")
plt.title("Total Amount of US Treasuries Issued vs. Matured (2015+)")
plt.legend()
plt.grid(True, axis='y')
plt.show()








corporate_bonds = bond_symbology[(bond_symbology["class"] == "Corp") & (bond_symbology["rank"] == "Sr Unsecured") & (bond_symbology["cpn_type"] == "FIXED") & (bond_symbology["maturity"] <= "2055-12-31")].copy()
display(corporate_bonds.head())





issuer_amt = corporate_bonds.groupby("name", as_index=False)["amt_out"].sum()
display(issuer_amt)





df_dis = corporate_bonds[corporate_bonds["ticker"] == "DIS"].copy()
display(df_dis.head())


avg_coupon = df_dis["coupon"].mean()
avg_term = df_dis["term"].mean()
avg_ttm = df_dis["TTM"].mean()
print(f"DIS average coupon: {avg_coupon:.2f}")
print(f"DIS average term: {avg_term:.2f}")
print(f"DIS average TTM: {avg_ttm:.2f}")





plt.figure(figsize=(10,6))
plt.scatter(df_dis["TTM"], df_dis["amt_out"], color="steelblue", alpha=0.7)
plt.title("Disney Bonds: Issue Amount Outstanding by TTM")
plt.xlabel("TTM (years)")
plt.ylabel("Amount Outstanding (USD Millions)")
plt.grid(True)
plt.show()








bond_market_prices_eod = pd.read_excel("data/bond_market_prices_eod.xlsx")
bond_market_prices_eod["date"] = pd.to_datetime(bond_market_prices_eod["date"])
display(bond_market_prices_eod.head())


merged_treasuries = pd.merge(US_treasury_bonds,
    bond_market_prices_eod,
    on=["ticker","isin","figi"],
    how="inner"
)
merged_treasuries = merged_treasuries.drop(columns=["class_y", "issue_year", "maturity_year", "accrued"])
merged_treasuries.rename(columns={"class_x": "class"}, inplace=True)
merged_treasuries["midPrice"] = (merged_treasuries["bidPrice"] + merged_treasuries["askPrice"])/2
merged_treasuries["midYield"] = (merged_treasuries["bidYield"] + merged_treasuries["askYield"])/2
merged_treasuries.head()


merged_treasuries["midYield"] = (merged_treasuries["bidYield"] + merged_treasuries["askYield"])/2
df_treas = merged_treasuries.dropna(subset=["midYield","TTM"])
plt.figure(figsize=(8,6))
plt.scatter(df_treas["TTM"], df_treas["midYield"], color="steelblue", alpha=0.7)
plt.xlabel("TTM (years)")
plt.ylabel("Mid Yield (%)")
plt.title("Treasury Mid Yields vs. TTM")
plt.grid(True)
plt.show()





merge_columns = list(set(merged_treasuries.columns).intersection(set(us_treasuries_on_the_run)))
merged_us_treasuries_on_the_run = pd.merge(merged_treasuries, us_treasuries_on_the_run, on=merge_columns, how="inner")
merged_us_treasuries_on_the_run.head()


plt.figure(figsize=(8,6))
plt.scatter(merged_us_treasuries_on_the_run["TTM"], merged_us_treasuries_on_the_run["midYield"], color="darkblue", alpha=0.7)
plt.xlabel("TTM (years)")
plt.ylabel("Mid Yield (%)")
plt.title("On-the-run Treasury Mid Yields vs. TTM")
plt.grid(True)
plt.show()





merged_corporate = pd.merge(
    corporate_bonds,
    bond_market_prices_eod,
    on=["class", "ticker","isin","figi"],
    how="inner"
)
merged_corporate["midPrice"] = (merged_corporate["bidPrice"] + merged_corporate["askPrice"])/2
merged_corporate["midYield"] = (merged_corporate["bidYield"] + merged_corporate["askYield"])/2
display(merged_corporate.head())

unique_corp_issuers = merged_corporate["ticker"].unique()
list(unique_corp_issuers)





issuer_colors = plt.cm.get_cmap("tab10", len(unique_corp_issuers))

plt.figure(figsize=(10,7))
for i, issuer in enumerate(unique_corp_issuers):
    data_issuer = merged_corporate[merged_corporate["ticker"] == issuer].dropna(subset=["midYield","TTM"])
    plt.scatter(
        data_issuer["TTM"],
        data_issuer["midYield"],
        label=issuer,
        color=issuer_colors(i)
    )

on_run_data = merged_us_treasuries_on_the_run.dropna(subset=["midYield","TTM"])
on_run_data_sorted = on_run_data.sort_values("TTM")
plt.plot(
    on_run_data_sorted["TTM"],
    on_run_data_sorted["midYield"],
    marker="x",
    color="black",
    label="On-the-run Treasuries"
)

plt.xlabel("TTM (years)")
plt.ylabel("Mid Yield (%)")
plt.title("Yield Curves: Corporate vs. On-the-run Treasury")
plt.legend()
plt.grid(True)
plt.show()











df_corp = pd.merge(merged_corporate, merged_treasuries[["isin","midYield"]], left_on="und_bench_isin", right_on="isin", how="left")
df_corp = df_corp.rename(columns={"midYield_x": "midYield", "midYield_y": "und_bench_yield", "isin_x": "isin"}).drop(columns=["isin_y"])
df_corp["credit_spread"] = (df_corp["midYield"] - df_corp["und_bench_yield"])*100
df_corp





plt.figure()
for issuer in df_corp["ticker"].unique():
    d = df_corp[df_corp["ticker"]==issuer]
    plt.scatter(d["TTM"], d["credit_spread"], label=issuer)
plt.legend()
plt.title("Credit Spread Curves by TTM")
plt.xlabel("TTM")
plt.ylabel("Credit Spread (bps)")
plt.show()





f = interp1d(merged_us_treasuries_on_the_run["TTM"], merged_us_treasuries_on_the_run["midYield"],
             kind="cubic", fill_value="extrapolate")

df_corp["interp_tsy_yield"] = f(df_corp["TTM"])
df_corp["g_spread"] = (df_corp["midYield"] - df_corp["interp_tsy_yield"])*100
df_corp.head()





plt.figure()
for issuer in df_corp["ticker"].unique():
    d = df_corp[df_corp["ticker"]==issuer]
    plt.scatter(d["TTM"], d["g_spread"], label=issuer)
plt.legend()
plt.title("G-Spread Curves by TTM")
plt.xlabel("TTM")
plt.ylabel("G-Spread (bps)")
plt.show()



