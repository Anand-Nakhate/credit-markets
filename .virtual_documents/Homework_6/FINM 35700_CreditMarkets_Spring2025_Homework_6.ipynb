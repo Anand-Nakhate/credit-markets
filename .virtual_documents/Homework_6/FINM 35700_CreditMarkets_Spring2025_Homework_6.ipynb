





# import tools from previous homeworks
from credit_market_tools import *

# Use static calculation/valuation date of 2024-12-13, matching data available in the market prices EOD file
calc_date = ql.Date(13, 12, 2024)
ql.Settings.instance().evaluationDate = calc_date

# Calculation/valuation date as pd datetime
as_of_date = pd.to_datetime('2024-12-13')
today = pd.to_datetime("2024-12-13") 
days_per_year = 365.25


# Load bond_symbology
bond_symbology = pd.read_excel("data/bond_symbology.xlsx")
bond_symbology['start_date'] = pd.to_datetime(bond_symbology['start_date'])
bond_symbology['cpn_first'] = pd.to_datetime(bond_symbology['cpn_first'])
bond_symbology['acc_first'] = pd.to_datetime(bond_symbology['acc_first'])
bond_symbology['maturity']   = pd.to_datetime(bond_symbology['maturity'])

bond_symbology['term'] = ((bond_symbology['maturity'] - bond_symbology['start_date']).dt.days / days_per_year)
bond_symbology['TTM'] = ((bond_symbology['maturity'] - today).dt.days / days_per_year)
bond_symbology['TTM'] = bond_symbology['TTM'].apply(lambda x: x if x > 0 else 0)
bond_symbology.head()


# Load bond_market_prices_eod
bond_market_prices_eod = pd.read_excel("data/bond_market_prices_eod.xlsx")
bond_market_prices_eod["date"] = pd.to_datetime(bond_market_prices_eod["date"])
display(bond_market_prices_eod.head())


# Load govt_on_the_run
govt_on_the_run = pd.read_excel("data/govt_on_the_run.xlsx")
on_the_run_list = ["2Y","3Y","5Y","7Y","10Y","20Y","30Y"]
pattern = r"^GT(\d+)([A-Z])?\sGovt$"
govt_on_the_run[["tenor", "suffix"]] = govt_on_the_run["ticker"].str.extract(pattern)
govt_on_the_run["tenor"] = govt_on_the_run["tenor"] + "Y"
display(govt_on_the_run.head())


# Load sofr_swaps_symbology
sofr_sym = pd.read_excel('data/sofr_swaps_symbology.xlsx')
sofr_sym.head()


# Load sofr_swaps_market_data_eod
sofr_mkt = pd.read_excel('data/sofr_swaps_market_data_eod.xlsx')
sofr_mkt['date'] = pd.to_datetime(sofr_mkt['date'])
sofr_mkt.head()

















def create_nelson_siegel_curve(calc_date, nelson_siegel_params):
    ''' nelson_siegel_params = (theta1, theta2, theta3, lambda)'''
    
    nelson_siegel_credit_curve_handle = 0

    # To do: compute nelson_siegel_credit_curve_handle
    # nelson_siegel_credit_curve_handle = ql.DefaultProbabilityTermStructureHandle(...)

    return(nelson_siegel_credit_curve_handle)





def calculate_nelson_siegel_model_prices_and_yields(nelson_siegel_params, 
                      calc_date, 
                      fixed_rate_bond_objects, 
                      tsy_yield_curve_handle, 
                      bond_recovery_rate = 0.4):
    
    bond_model_prices = 0
    bond_model_yields = 0

    # To do: compute bond_model_prices and bond_model_yields

    return(bond_model_prices, bond_model_yields)






def nelson_siegel_sse(nelson_siegel_params, 
                      calc_date, 
                      fixed_rate_bond_objects, 
                      market_prices, 
                      calib_weights,
                      tsy_yield_curve_handle, 
                      bond_recovery_rate = 0.4):
    
    sse = 0

    # To do: compute sse in price space
    
    return(sse)








def calibrate_nelson_siegel_model(initial_nelson_siegel_params,
                                  calc_date, 
                                  bond_details, 
                                  tsy_yield_curve_handle, 
                                  bond_recovery_rate = 0.4):
    
    calib_results = (0, 0, 0, 0)
    
    # To do: compute calib_results
    # calib_results = (theta1, theta2, theta3, lambda)
    
    return(calib_results)







