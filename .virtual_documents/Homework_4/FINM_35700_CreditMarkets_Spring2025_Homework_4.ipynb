





import pandas as pd
import QuantLib as ql
import matplotlib.pyplot as plt
from pathlib import Path
from datetime import datetime
import scipy.optimize as opt

import warnings
warnings.filterwarnings('ignore')


# import tools from previous homeworks
from credit_market_tools import *

# Use static calculation/valuation date of 2024-12-13, matching data available in the market prices EOD file
calc_date = ql.Date(13, 12, 2024)
ql.Settings.instance().evaluationDate = calc_date

# Calculation/valuation date as pd datetime
as_of_date = pd.to_datetime('2024-12-13')























sofr_sym = pd.read_excel('data/sofr_swaps_symbology.xlsx')
tenors = sorted(sofr_sym['tenor'].unique())
print("SOFR Swaps Symbology:")
display(sofr_sym.head())
print('Available swap tenors:', tenors)

sofr_mkt = pd.read_excel('data/sofr_swaps_market_data_eod.xlsx')
sofr_mkt['date'] = pd.to_datetime(sofr_mkt['date'])
print("\n SOFR Swaps Market Data EOD")
display(sofr_mkt.head())


df = sofr_sym.merge(sofr_mkt, on='figi').sort_values('date')
display(df.head())
print(df.shape)


df_hist = df[df['tenor'].isin(tenors)].pivot(index='date', columns='tenor', values='midRate')
fig, ax = plt.subplots(figsize=(12,6))
df_hist.plot(ax=ax)
ax.set(title='Historical SOFR Swap Rates', xlabel='Date', ylabel='Mid Rate')
plt.show()





def calibrate_sofr_curve_from_frame(
        calc_date: ql.Date,
        sofr_details: pd.DataFrame,
        rate_quote_column: str):
    ql.Settings.instance().evaluationDate = calc_date

    # Sort dataframe by maturity
    sorted_details_frame = sofr_details.sort_values(by='tenor')    
    
    # settle_days
    settle_days = 1
    
    # For US SOFR OIS Swaps 
    day_count = ql.Actual360()

    # For US SOFR Swaps     
    calendar = ql.UnitedStates(ql.UnitedStates.GovernmentBond)
    
    sofr_helpers = []
    
    for index, row in sorted_details_frame.iterrows():
        sofr_quote = row[rate_quote_column]
        tenor_in_years = row['tenor']
        sofr_tenor = ql.Period(tenor_in_years, ql.Years)
        
        # create sofr_rate_helper
        sofr_helper = ql.OISRateHelper(settle_days, sofr_tenor, ql.QuoteHandle(ql.SimpleQuote(sofr_quote/100)), ql.Sofr())
                        
        sofr_helpers.append(sofr_helper)
        
    sofr_yield_curve = ql.PiecewiseLinearZero(settle_days, calendar, sofr_helpers, day_count)
    sofr_yield_curve.enableExtrapolation()
    
    return sofr_yield_curve


df_2024_12_13 = df[df['date'] == '2024-12-13']
display(df_2024_12_13)


sofr_yc = calibrate_sofr_curve_from_frame(calc_date, df_2024_12_13, 'midRate')





grid_dates = [sofr_yc.referenceDate() + ql.Period(y, ql.Years) for y in list(range(0,30,2))]


sofr_yield_curve_simple_df = get_yield_curve_details_df(sofr_yc)                  # using calibration grid
sofr_yield_curve_details_df = get_yield_curve_details_df(sofr_yc, grid_dates)     # using external grid

display(sofr_yield_curve_simple_df)
display(sofr_yield_curve_details_df)





plt = sofr_yield_curve_details_df.plot(x='Date', y='ZeroRate', grid=True, title='SOFR Curve: Zero Rates', figsize=(12,5), marker='x')
plt.set_ylabel('Zero Rate (%)')
plt.set_xlabel('Date')

plt = sofr_yield_curve_details_df.plot(x='Date', y='DiscountFactor', grid=True, title='SOFR Curve: Discount Factors', figsize=(12,5), marker='x')
plt.set_ylabel('Discount Factors')
plt.set_xlabel('Date')








cds = pd.read_excel('data/cds_market_data_eod.xlsx')
cds['date'] = pd.to_datetime(cds['date'])
cds.sort_values(by='date', inplace=True)
display(cds.head())


import matplotlib.pyplot as plt 
cols = ['par_spread_1y', 'par_spread_2y', 'par_spread_3y', 'par_spread_5y', 'par_spread_7y', 'par_spread_10y']

fig, ax = plt.subplots(figsize=(12,6))
for c in cols:
    ax.plot(cds['date'], cds[c], label=c)
ax.legend(title='Tenor'); ax.set(title='CDS Par Spreads', xlabel='Date', ylabel='bps')
plt.show()





cds_ibm = cds[(cds['date'] == '2024-12-13') & (cds['ticker'] == 'IBM')]
display(cds_ibm)


sofr_yc_handle = ql.YieldTermStructureHandle(sofr_yc) 
row = cds_ibm.iloc[0]
spreads = [row[c] for c in cols]
recovery = row['cds_assumed_recovery']
hazard = calibrate_cds_hazard_rate_curve(calc_date, sofr_yc_handle, spreads, recovery)

hazard_list = [(hr[0].to_date(), 
                ql.Actual360().yearFraction(calc_date, hr[0]),
                hr[1] * 100,
                hazard.survivalProbability(hr[0])) 
                for hr in hazard.nodes()]

grid_date, year_fraction, hazard_rate, survival_probability = zip(*hazard_list)
hazard_rates = pd.DataFrame(data={'Date': grid_date, 
                                     'Year Fraction': year_fraction,
                                     'Hazard Rate': hazard_rate,
                                     'Survival Probability': survival_probability})
display(hazard_rates)





fig, (ax1, ax2) = plt.subplots(1, 2, figsize=(14,6))
ax1.plot(hazard_rates['Year Fraction'], hazard_rates['Hazard Rate'], marker='x')
ax1.set(title='IBM Hazard Rates', xlabel='Year Fraction', ylabel='Hazard Rate (bps)')
ax2.plot(hazard_rates['Year Fraction'], hazard_rates['Survival Probability'], marker='x')
ax2.set(title='IBM Survival Probability', xlabel='Year Fraction', ylabel='Survival Probability')
plt.tight_layout(); plt.show()





sched = ql.MakeSchedule(
    effectiveDate=calc_date,
    terminationDate=ql.Date(20, 6, 2029),
    tenor=ql.Period(3, ql.Months),
    calendar=ql.TARGET(),
    convention=ql.Following,
    terminalDateConvention=ql.Unadjusted,
    rule=ql.DateGeneration.TwentiethIMM,
    endOfMonth=False
)


cds_inst = ql.CreditDefaultSwap(
    ql.Protection.Seller, 100, 1e-2, sched, ql.Following, ql.Actual360()
)
prob = ql.DefaultProbabilityTermStructureHandle(hazard)
engine = ql.MidPointCdsEngine(prob, recovery, sofr_yc_handle)
cds_inst.setPricingEngine(engine)


print('Fair Spread (bps):', round(cds_inst.fairSpread()*1e4,3))
print('NPV:', round(cds_inst.NPV(),4))
print('Premium Leg PV:', round(cds_inst.couponLegNPV(),4))
print('Default Leg PV:', round(cds_inst.defaultLegNPV(),4))
print('Survival Probability:', round(hazard.survivalProbability(ql.Date(20,6,2029)),4))








hyg_basket_composition = pd.read_excel('data/hyg_basket_composition.xlsx')
display(hyg_basket_composition.head())
hyg_corp_symbology = pd.read_excel('data/hyg_corp_symbology.xlsx')
display(hyg_corp_symbology.head())


nbonds = hyg_basket_composition['isin'].nunique()
print("Q: How many corporate bonds are in the HYG basket?")
print('Number of bonds:', nbonds)

mean_bond = hyg_basket_composition['face_notional'].mean()
median_bond = hyg_basket_composition['face_notional'].median()
print("\nQ: What are the average and median face notionals for a bond?")
print('Bond face notional mean:', mean_bond)
print('Bond face notional median:', median_bond)


hyg_basket_composition.set_index(['isin', 'figi'], inplace=True)
hyg_corp_symbology.set_index(['isin', 'figi'], inplace=True)
hyg = pd.merge(hyg_basket_composition, 
                    hyg_corp_symbology[hyg_corp_symbology.columns.difference(hyg_basket_composition.columns)], 
                    left_index=True, 
                    right_index=True, 
                    how='inner'
                   ).reset_index()


print("Q: How many unique tickers are in the HYG basket?")
print("Number of tickers: ", hyg['ticker'].nunique())

print("\nQ: What are the average and median face notionals for a ticker?")
display(hyg.groupby('ticker')['face_notional'].agg(['median', 'mean']).reset_index())

print("\nQ: Compute mean, median and standard deviation of yields-to-maturity of bonds in the basket.")
print("Mean of yields-to-maturity of bonds in the basket: ", hyg['midYield'].agg('mean'))
print("Median of yields-to-maturity of bonds in the basket: ", hyg['midYield'].agg('median'))
print("Std of yields-to-maturity of bonds in the basket: ", hyg['midYield'].agg('std'))





day_count = ql.Thirty360(ql.Thirty360.USA)
calendar = ql.UnitedStates(ql.UnitedStates.GovernmentBond)
cpn_freq = ql.Semiannual
compounding = ql.Compounded
rows = list(hyg.iterrows())

bonds = [create_bond_from_symbology(row) for _, row in hyg.iterrows()]
dirty = [b.dirtyPrice(row['midYield']/100, day_count, compounding, cpn_freq) for b, (_, row) in zip(bonds, rows)]
hyg['dirtyPrice'] = dirty
display(hyg[['dirtyPrice']].head())


etf_nav = (hyg['dirtyPrice'] * hyg['face_notional_weight'] / 100).sum()
market_cap = (hyg['dirtyPrice'] * hyg['face_notional'] / 100).sum()
nav_price = market_cap / 195600000

print('ETF NAV per $100 face:', etf_nav)
print('Intrinsic Market Cap:', market_cap)
print('Intrinsic share price:', nav_price)





def nav(y):
    return sum(
        create_bond_from_symbology(row.to_dict()).dirtyPrice(y/100, day_count, compounding, cpn_freq)
        * row['face_notional_weight'] / 100
        for _, row in rows
    )

root = opt.root_scalar(lambda y: nav(y) - etf_nav, bracket=[0, 20], rtol=1e-8)
etf_yield = root.root
print('ETF yield (%):', etf_yield)








P = nav(etf_yield)
P_down = nav(etf_yield - 0.01)
dv01 = (P_down - P)*100
duration = dv01 / P * 100
print('ETF DV01:', dv01)
print('ETF Duration:', duration)
