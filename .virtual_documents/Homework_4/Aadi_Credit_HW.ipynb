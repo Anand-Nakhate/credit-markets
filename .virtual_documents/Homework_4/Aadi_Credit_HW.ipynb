





# import tools from previous homeworks
from credit_market_tools import *

# Use static calculation/valuation date of 2024-12-13, matching data available in the market prices EOD file
calc_date = ql.Date(13, 12, 2024)
ql.Settings.instance().evaluationDate = calc_date

# Calculation/valuation date as pd datetime
as_of_date = pd.to_datetime('2024-12-13')























import matplotlib.pyplot as plt


sofr_symbology = pd.read_excel('./data/sofr_swaps_symbology.xlsx')
sofr_market = pd.read_excel('./data/sofr_swaps_market_data_eod.xlsx')
sofr_joined = pd.merge(sofr_symbology, sofr_market, on='figi', how='inner')
sofr_joined.sort_values(by='date', inplace=True)
fig, ax = plt.subplots(figsize=(12, 6))
for name, group in sofr_joined.groupby('tenor'):
    ax.plot(group['date'], group['midRate'], label = name)
plt.legend(title='tenor')
plt.title('SOFR Swap Rates')





def calibrate_sofr_curve_from_frame(
        calc_date: ql.Date,
        sofr_details: pd.DataFrame,
        rate_quote_column: str):
    '''Create a calibrated yield curve from a SOFR details dataframe which includes rate quotes.
    '''
    ql.Settings.instance().evaluationDate = calc_date

    # Sort dataframe by maturity
    sorted_details_frame = sofr_details.sort_values(by='tenor')    
    
    # settle_days
    settle_days = 1
    
    # For US SOFR OIS Swaps 
    day_count = ql.Actual360()

    # For US SOFR Swaps     
    calendar = ql.UnitedStates(ql.UnitedStates.GovernmentBond)
    
    sofr_helpers = []
    
    for index, row in sorted_details_frame.iterrows():
        sofr_quote = row[rate_quote_column]
        tenor_in_years = row['tenor']
        sofr_tenor = ql.Period(tenor_in_years, ql.Years)
        
        # create sofr_rate_helper
        sofr_helper = ql.OISRateHelper(settle_days, sofr_tenor, ql.QuoteHandle(ql.SimpleQuote(sofr_quote/100)), ql.Sofr())
                        
        sofr_helpers.append(sofr_helper)
        
    sofr_yield_curve = ql.PiecewiseLinearZero(settle_days, calendar, sofr_helpers, day_count)
    sofr_yield_curve.enableExtrapolation()
    
    return sofr_yield_curve


sofr_market[sofr_market['date'] == '2024-12-13']


sofr_yield_curve = calibrate_sofr_curve_from_frame(calc_date, sofr_joined[sofr_joined['date'] == '2024-12-13'], 'midRate')

def get_yield_curve_details_df(yield_curve, curve_dates=None):
    
    if(curve_dates == None):
        curve_dates = yield_curve.dates()

    dates = [d.to_date() for d in curve_dates]
    discounts = [round(yield_curve.discount(d), 3) for d in curve_dates]
    yearfracs = [round(yield_curve.timeFromReference(d), 3) for d in curve_dates]
    zeroRates = [round(yield_curve.zeroRate(d, yield_curve.dayCounter(), ql.Compounded).rate() * 100, 3) for d in curve_dates]

    yield_curve_details_df = pd.DataFrame(data={'Date': dates,
                             'YearFrac': yearfracs,
                             'DiscountFactor': discounts,
                             'ZeroRate': zeroRates})                             
    return yield_curve_details_df






# Display SOFR yield curve
grid_dates = [sofr_yield_curve.referenceDate() + ql.Period(y, ql.Years) for y in list(range(0,30,2))]


sofr_yield_curve_simple_df = get_yield_curve_details_df(sofr_yield_curve)                  # using calibration grid
sofr_yield_curve_details_df = get_yield_curve_details_df(sofr_yield_curve, grid_dates)    # using external grid

display(sofr_yield_curve_simple_df)
display(sofr_yield_curve_details_df)






rates = sofr_yield_curve_details_df.plot(x='Date', y='ZeroRate', grid=True, style='*-', title='SOFR Curve: Zero Rates', figsize=(12,5))
rates.set_ylabel('Zero Rate (%)')
rates.set_xlabel('Date')

discs = sofr_yield_curve_details_df.plot(x='Date', y='DiscountFactor', grid=True, style='*-', title='SOFR Curve: Discount Factors', figsize=(12,5))
discs.set_ylabel('Discount Factors')
discs.set_xlabel('Date')








cds_market = pd.read_excel('./data/cds_market_data_eod.xlsx')
cds_market.sort_values(by='date', inplace=True)
columns = ['par_spread_1y', 'par_spread_2y', 'par_spread_3y', 'par_spread_5y', 'par_spread_7y', 'par_spread_10y']
plt.figure(figsize=(12, 6))
for column in columns:
    plt.plot(cds_market['date'], cds_market[column], label=column)
plt.legend(title='tenor', loc='upper right')
plt.title('CDS Par Spreads')


cds_market.cds_assumed_recovery.unique()





cds_ibm = cds_market[cds_market['date'] == '2024-12-13']
cds_ibm


cds_ibm = cds_market[cds_market['date'] == '2024-12-13']
sofr_yield_curve_handle = ql.YieldTermStructureHandle(sofr_yield_curve)
settle_days = 1

CDS_recovery_rate = cds_ibm['cds_assumed_recovery'].iloc[0]
CDS_day_count = ql.Actual360()
# CDS standard tenors: 1Y, 2Y, 3Y, 5Y 7Y and 10Y
CDS_tenors = [ql.Period(y, ql.Years) for y in [1, 2, 3, 5, 7, 10]]
              
# CDS spreads for IBM as of calc_date = 2024-12-13
CDS_spreads = cds_ibm[columns].iloc[0, :].values#[17.25, 24.09, 35.58, 55.58, 70.51, 79.92]

CDS_helpers = [ql.SpreadCdsHelper((CDS_spread / 10000.0), CDS_tenor, settle_days, ql.TARGET(),
                ql.Quarterly, ql.Following, ql.DateGeneration.TwentiethIMM, CDS_day_count, CDS_recovery_rate, sofr_yield_curve_handle)               
                for (CDS_spread, CDS_tenor) in zip(CDS_spreads, CDS_tenors)]

# bootstrap hazard_rate_curve
hazard_rate_curve = ql.PiecewiseFlatHazardRate(calc_date, CDS_helpers, CDS_day_count)
hazard_rate_curve.enableExtrapolation()

# Display calibrated hazard rates and survival probabilities
hazard_list = [(hr[0].to_date(), 
                CDS_day_count.yearFraction(calc_date, hr[0]),
                hr[1] * 100,
                hazard_rate_curve.survivalProbability(hr[0])) 
                for hr in hazard_rate_curve.nodes()]

grid_dates, year_frac, hazard_rates, surv_probs = zip(*hazard_list)

hazard_rates_df = pd.DataFrame(data={'Date': grid_dates, 
                                     'YearFrac': year_frac,
                                     'HazardRate': hazard_rates,
                                     'SurvivalProb': surv_probs})
print(hazard_rates_df)






h_rates = hazard_rates_df.plot(x='Date', y='HazardRate', grid=True, style='*-', title='IBM Hazard Rates Curve', figsize=(12,5))
h_rates.set_ylabel('Hazard Rate (%)')
h_rates.set_xlabel('Date')

prob = hazard_rates_df.plot(x='Date', y='SurvivalProb', grid=True, style='*-', title='IBM Survival Probability Curve', figsize=(12,5))
prob.set_ylabel('Survival Probability')
prob.set_xlabel('Date')






# CDS specs
side = ql.Protection.Seller

face_notional = 100

contractual_spread = 100 / 10000

cds_start_date = ql.Date(13, 12, 2024)
cds_maturity_date = ql.Date(20, 6, 2029)

# Create CDS schedule
cds_schedule = ql.MakeSchedule(cds_start_date, cds_maturity_date, ql.Period('3M'),
                            ql.Quarterly, ql.TARGET(), ql.Following, ql.Unadjusted, ql.DateGeneration.TwentiethIMM)

# display(list(cds_schedule))

# Create CDS object
cds_obj = ql.CreditDefaultSwap(side, face_notional, contractual_spread, cds_schedule, ql.Following, ql.Actual360())

# Create CDS Implied Credit Curve and pricing engine
cds_surv_prob_curve_handle = ql.DefaultProbabilityTermStructureHandle(hazard_rate_curve)

cds_pricing_engine = ql.MidPointCdsEngine(cds_surv_prob_curve_handle, CDS_recovery_rate, sofr_yield_curve_handle)
cds_obj.setPricingEngine(cds_pricing_engine)


# Print CDS valuation results
print('CDS protection start date:', cds_obj.protectionStartDate())
print('CDS fair/par spread:', round(cds_obj.fairSpread()*10000, 3))
print('CDS PV:', round(cds_obj.NPV(), 4))    
print('CDS Premium Leg PV:', round(cds_obj.couponLegNPV(), 4))
print('CDS Default Leg PV', round(cds_obj.defaultLegNPV(), 4))
print('Survival Prob. to Maturity:', round(hazard_rate_curve.survivalProbability(cds_maturity_date), 4))









hyg_basket = pd.read_excel('./data/hyg_basket_composition.xlsx')
hyg_corps = pd.read_excel('./data/hyg_corp_symbology.xlsx')


print(f'Number of Corporate Bonds in HYG Basket: {hyg_basket['isin'].nunique()}')
print('Median and Average Face Notionals per bond: ')
print(f'Median: {hyg_basket.face_notional.median()}')
print(f'Average: {hyg_basket.face_notional.mean()}')


hyg_basket.set_index(['isin', 'figi'], inplace=True)
hyg_corps.set_index(['isin', 'figi'], inplace=True)
cols = hyg_corps.columns.difference(hyg_basket.columns)
hyg_full = pd.merge(hyg_basket, hyg_corps[cols], left_index=True, right_index=True, how='inner').reset_index()


print("Number of Unique Tickers in HYG Basket: ", hyg_full['ticker'].nunique())
print("Median and Average Face Notionals per ticker: ")
display(hyg_full.groupby('ticker')['face_notional'].agg(['median', 'mean']).reset_index())
print("Mean, Median and Std Dev of Yield to Maturities per bond: \n", hyg_full['midYield'].agg(['mean', 'median', 'std']))





day_count = ql.Thirty360(ql.Thirty360.USA)
calendar = ql.UnitedStates(ql.UnitedStates.GovernmentBond)
cpn_freq = ql.Semiannual
compounding = ql.Compounded


bond_objs = []
bond_nav = []
bond_dprices = []
for _,row in hyg_full.iterrows():
    obj = create_bond_from_symbology(row)
    bond_dprices.append(obj.dirtyPrice(row['midYield']/100, day_count, compounding, cpn_freq))
hyg_full['dirtyPrice'] = bond_dprices


etf_nav = ((hyg_full['dirtyPrice']*hyg_full['face_notional_weight']/100).sum())
mkt_cap = (hyg_full['dirtyPrice']*hyg_full['face_notional']/100).sum()
print(f'ETF NAV for per $100 Face: {etf_nav}')
print(f'ETF Intrinsic Market Cap: {mkt_cap}')
print(f'Intrinsic Price per share: {mkt_cap/195600000}')





import warnings
warnings.filterwarnings('ignore')


import scipy.optimize as opt
etf_price = 79.45

def etf_nav_solver(yld):
    yld = float(yld)
    val = 0
    for _,row in hyg_full.iterrows():
        obj = create_bond_from_symbology(row)
        val += (obj.dirtyPrice(yld/100, day_count, compounding, cpn_freq) * row['face_notional_weight']/100)
    return val

etf_price = 79.45
def obj_yield(nav_price):
    f = lambda x: etf_nav_solver(x) - nav_price
    sol = opt.root_scalar(f, x0 = 0.03, xtol=1e-8)
    return sol.root

print(f'ETF Yield: {obj_yield(etf_nav):.4f}%')








import numpy as np

etf_yield_pct = obj_yield(etf_nav)
print(f"Computed ETF Yield (percent): {etf_yield_pct:.4f}%")

bp = 0.01
price_down = etf_nav_solver(etf_yield_pct - bp)

dv01 = (price_down - etf_nav)*100
print(f"ETF DV01: {dv01:.4f}")

modified_duration = dv01 / etf_nav * 100.0
print(f"ETF Duration: {modified_duration:.4f}")






