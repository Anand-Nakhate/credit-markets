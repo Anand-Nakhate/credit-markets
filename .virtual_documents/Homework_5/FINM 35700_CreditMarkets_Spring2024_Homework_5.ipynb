





# import tools from previous homeworks
from credit_market_tools import *

# Use static calculation/valuation date of 2024-12-13, matching data available in the market prices EOD file
calc_date = ql.Date(13, 12, 2024)
ql.Settings.instance().evaluationDate = calc_date

# Calculation/valuation date as pd datetime
as_of_date = pd.to_datetime('2024-12-13')
today = pd.to_datetime("2024-12-13") 
days_per_year = 365.25


# Load bond_symbology
bond_symbology = pd.read_excel("data/bond_symbology.xlsx")
bond_symbology['start_date'] = pd.to_datetime(bond_symbology['start_date'])
bond_symbology['cpn_first'] = pd.to_datetime(bond_symbology['cpn_first'])
bond_symbology['acc_first'] = pd.to_datetime(bond_symbology['acc_first'])
bond_symbology['maturity']   = pd.to_datetime(bond_symbology['maturity'])

bond_symbology['term'] = ((bond_symbology['maturity'] - bond_symbology['start_date']).dt.days / days_per_year)
bond_symbology['TTM'] = ((bond_symbology['maturity'] - today).dt.days / days_per_year)
bond_symbology['TTM'] = bond_symbology['TTM'].apply(lambda x: x if x > 0 else 0)
bond_symbology.head()


# Load bond_market_prices_eod
bond_market_prices_eod = pd.read_excel("data/bond_market_prices_eod.xlsx")
bond_market_prices_eod["date"] = pd.to_datetime(bond_market_prices_eod["date"])
display(bond_market_prices_eod.head())


# Load govt_on_the_run
govt_on_the_run = pd.read_excel("data/govt_on_the_run.xlsx")
on_the_run_list = ["2Y","3Y","5Y","7Y","10Y","20Y","30Y"]
pattern = r"^GT(\d+)([A-Z])?\sGovt$"
govt_on_the_run[["tenor", "suffix"]] = govt_on_the_run["ticker"].str.extract(pattern)
govt_on_the_run["tenor"] = govt_on_the_run["tenor"] + "Y"
display(govt_on_the_run.head())


# Load sofr_swaps_symbology
sofr_sym = pd.read_excel('data/sofr_swaps_symbology.xlsx')
sofr_sym.head()


# Load sofr_swaps_market_data_eod
sofr_mkt = pd.read_excel('data/sofr_swaps_market_data_eod.xlsx')
sofr_mkt['date'] = pd.to_datetime(sofr_mkt['date'])
sofr_mkt.head()


# Load cds_market_data_eod
cds = pd.read_excel('data/cds_market_data_eod.xlsx')
cds['date'] = pd.to_datetime(cds['date'])
cds.sort_values(by='date', inplace=True)
display(cds.head())





























# Given data
N  = 100.0      # Notional
r  = 0.04       # Risk-free rate (annual)
c  = 0.01       # Coupon rate (annual)
dt = 0.25       # Quarterly payment interval
h  = 0.02       # Hazard rate (annual)
R  = 0.40       # Recovery rate


disc = np.exp(-(r + h) * dt)


# Premium leg PV 
pv_pl = N * c * dt * disc / (1 - disc)
# Default leg PV
pv_dl = N * (1 - R) * h / (r + h)

print(f"PV CDS Premuim Leg: {pv_pl}")
print(f"PV CDS Default Leg: {pv_dl}")








# 1. Net PV of the CDS
pv_cds = pv_pl - pv_dl
# 2. Upfront fee 
upfront = -pv_cds
# 3. Par spread
duration = dt * disc / (1 - disc)    
s = pv_dl / (N * duration)
# Par spread in basis points
s_bps = s * 1e4


print(f"PV CDS PV: {pv_cds}")
print(f"PV CDS Upfront: {upfront}")
print(f"PV CDS Par Spread (bps): {s_bps}")








def pv_cds_model(r_, h_, R_):
    disc_ = np.exp(-(r_ + h_) * dt)
    pv_pl_ = N * c * dt * disc_ / (1 - disc_)
    pv_dl_ = N * (1 - R_) * h_ / (r_ + h_)
    return pv_pl_ - pv_dl_

base_pv = pv_cds

ir01 = pv_cds_model(r + 1e-4, h, R) - base_pv # IR01: +1 bp move in r
hr01 = pv_cds_model(r, h + 1e-4, R) - base_pv # HR01: +1 bp move in h
rec01 = pv_cds_model(r, h, R + 0.01) - base_pv # REC01: +1% move in R

print(f"IR01  = {ir01:.6f}")
print(f"HR01  = {hr01:.6f}")
print(f"REC01 = {rec01:.6f}")











numer = 0.10
denom = 1 - np.exp(-10 * h)
T = - (1.0 / h) * np.log(numer / denom)
T








us_treasury_bonds = bond_symbology[(bond_symbology["class"] == "Govt") & (bond_symbology["ticker"] == "T")]
on_the_run_bonds = govt_on_the_run[(govt_on_the_run["tenor"].isin(on_the_run_list)) & (govt_on_the_run["suffix"].isna())].copy()
us_treasuries_on_the_run = pd.merge(us_treasury_bonds, on_the_run_bonds, on=['figi', 'isin']).drop(["suffix", "ticker_y"], axis=1).rename(columns={"ticker_x": "ticker"})

bond_market_prices_eod = bond_market_prices_eod[bond_market_prices_eod["date"]=="2024-12-13"]
us_treasuries_on_the_run_mkt = pd.merge(us_treasuries_on_the_run, bond_market_prices_eod, on=list(set(us_treasuries_on_the_run.columns).intersection(set(bond_market_prices_eod))))

us_treasuries_on_the_run_mkt["midPrice"] = (us_treasuries_on_the_run_mkt["bidPrice"] + us_treasuries_on_the_run_mkt["askPrice"])/2
us_treasuries_on_the_run_mkt["midYield"] = (us_treasuries_on_the_run_mkt["bidYield"] + us_treasuries_on_the_run_mkt["askYield"])/2
us_treasuries_on_the_run_mkt.head()


df_sofr_asof = (sofr_mkt.merge(sofr_sym, on='figi').assign(tenor_in_years=lambda df: df['tenor'].astype(str) + 'Y'))
df_sofr_asof = df_sofr_asof[df_sofr_asof['date'] == '2024-12-13']
df_sofr_asof.head()


cds_ibm = cds[(cds['date'] == '2024-12-13') & (cds['ticker'] == 'IBM')]
cols = ['par_spread_1y', 'par_spread_2y', 'par_spread_3y', 'par_spread_5y', 'par_spread_7y', 'par_spread_10y']
cds_tenors =[ql.Period(y, ql.Years) for y in [1, 2, 3, 5, 7, 10]]
row = cds_ibm.iloc[0]
cds_par_spreads_bps = [row[c] for c in cols]
cds_par_spreads_bps


# tsy_yield_curve calibration
govt_combined_otr = us_treasuries_on_the_run_mkt    # TODO: Follow Homework 2 Problem 2 and populate the US Treasury On-The-Run symbology + market data frame !!!
tsy_yield_curve = calibrate_yield_curve_from_frame(calc_date, govt_combined_otr, 'midPrice')
tsy_yield_curve_handle = ql.YieldTermStructureHandle(tsy_yield_curve)

# sofr_yield_curve calibration
sofr_combined = df_sofr_asof    # TODO: Follow Homework 3 Problem 3 and populate the SOFR symbology + market data frame !!!
sofr_yield_curve = calibrate_sofr_curve_from_frame(calc_date, sofr_combined, 'midRate')
sofr_yield_curve_handle = ql.YieldTermStructureHandle(sofr_yield_curve)


# hazard_rate_curve calibrated to IBM CDS par spreads
hazard_rate_curve = calibrate_cds_hazard_rate_curve(
    calc_date,
    sofr_yield_curve_handle,
    cds_par_spreads_bps,
    cds_recovery_rate=0.40
)    # TODO: Follow Homework 3 Problem 4 and create the IBM hazard rate curve !!!
default_prob_curve_handle = ql.DefaultProbabilityTermStructureHandle(hazard_rate_curve)





ibm_figis = [
    'BBG00FVNGFP3',   # IBM 3.3 01/27/27
    'BBG000058NM4',   # IBM 6 1/2 01/15/28
    'BBG00P3BLH14'    # IBM 3 1/2 05/15/29
]


# build and display schedules
for figi in ibm_figis:
    details = bond_symbology[bond_symbology['figi']==figi].iloc[0].to_dict()
    bond = create_bond_from_symbology(details)
    cf_df = get_bond_cashflows(bond, calc_date)
    print(f"Cash-flows for {details['security']} (FIGI={figi}):")
    display(cf_df)
    print("\n")





# flat_recovery_rate: use market convention of 40% for "Senior Unsecured" Debt
flat_recovery_rate = 0.40
risky_bond_engine = ql.RiskyBondEngine(default_prob_curve_handle, flat_recovery_rate, tsy_yield_curve_handle)

results = []
for figi in ibm_figis:
    details = bond_symbology[bond_symbology["figi"]==figi].iloc[0].to_dict()
    bond = create_bond_from_symbology(details)
    bond.setPricingEngine(risky_bond_engine)
    price = bond.cleanPrice()
    yld = bond.bondYield(price,ql.Thirty360(ql.Thirty360.USA),ql.Compounded, ql.Semiannual) * 100
    results.append({
        "FIGI": figi,
        "Security": details["security"],
        "ModelCleanPrice": price,
        "ModelYield(%)": yld
    })

df_model = pd.DataFrame(results)
display(df_model)





us_bonds = bond_symbology
bond_market_prices_eod = bond_market_prices_eod[bond_market_prices_eod["date"]=="2024-12-13"]
bond_mkt = pd.merge(us_bonds, bond_market_prices_eod, on=list(set(us_treasury_bonds.columns).intersection(set(bond_market_prices_eod))))
bond_mkt["midPrice"] = (bond_mkt["bidPrice"] + bond_mkt["askPrice"])/2
bond_mkt["midYield"] = (bond_mkt["bidYield"] + bond_mkt["askYield"])/2

for r in results:
    mk = bond_mkt[bond_mkt["figi"]==r["FIGI"]].iloc[0]
    r["midPrice"]      = mk.midPrice
    r["midYield(%)"]   = mk["midYield"]
    r["basisPrice"]    = r["ModelCleanPrice"] - r["midPrice"]
    r["basisYield(%)"] = r["ModelYield(%)"] - r["midYield(%)"]

df_basis = pd.DataFrame(results)
display(df_basis)








results = []
interest_rate_bump = ql.SimpleQuote(0.0)
for figi in ibm_figis:
    details = bond_symbology[bond_symbology["figi"]==figi].iloc[0].to_dict()
    bond = create_bond_from_symbology(details)
    flat_yield_curve_bumped = ql.ZeroSpreadedTermStructure(tsy_yield_curve_handle, ql.QuoteHandle(interest_rate_bump))
    bond_engine_scen = ql.DiscountingBondEngine(ql.YieldTermStructureHandle(flat_yield_curve_bumped))
    bond.setPricingEngine(bond_engine_scen)

    price_base = bond.cleanPrice()

    interest_rate_bump.setValue(0.0001)
    price_up_1bp = bond.cleanPrice()

    interest_rate_bump.setValue(-0.0001)
    price_down_1bp = bond.cleanPrice()

    interest_rate_bump.setValue(0)

    dirty_price_base = bond.dirtyPrice()

    dv01 = round((price_down_1bp - price_base) * 1e4 / 100, 4)
    duration = round(dv01 / dirty_price_base * 100, 4)
    ir01 = dv01

    results.append({
        'FIGI':       figi,
        'CleanPrice': price_base,
        'DirtyPrice': dirty_price_base,
        'IR01($)':    ir01,
        'Duration':   duration
    })
pd.DataFrame(results).set_index('FIGI')





security_names = []
analytical_durations = []
analytical_dv01s = []
results_analytical = []
for figi in ibm_figis:
    details = bond_symbology[bond_symbology["figi"]==figi].iloc[0].to_dict()
    bond = create_bond_from_symbology(details)
    bond.setPricingEngine(risky_bond_engine)
    clean_price = bond.cleanPrice()
    bond_yield = bond.bondYield(clean_price, ql.Thirty360(ql.Thirty360.USA), ql.Compounded, ql.Semiannual)
    ql_yield_rate = ql.InterestRate(bond_yield, ql.Thirty360(ql.Thirty360.USA), ql.Compounded, ql.Semiannual)
    dirty_price = bond.dirtyPrice()
    duration = round(ql.BondFunctions.duration(bond, ql_yield_rate), 4)
    dv01 = round(duration * dirty_price / 100, 4)
    ir01 = dv01

    results_analytical.append({
        'FIGI':       figi,
        'CleanPrice': price_base,
        'DirtyPrice': dirty_price,
        'IR01($)':    ir01,
        'Duration':   duration
    })
pd.DataFrame(results_analytical).set_index('FIGI')








bumped_helpers = [
    ql.SpreadCdsHelper((spread-0.0001)/10000,tenor,1,ql.TARGET(),ql.Quarterly,ql.Following,ql.DateGeneration.TwentiethIMM,ql.Actual360(),0.4,sofr_yield_curve_handle)
    for spread, tenor in zip(cds_par_spreads_bps, cds_tenors)
]

bumped_hazard = ql.PiecewiseFlatHazardRate(calc_date,bumped_helpers,ql.Actual360())
bumped_hazard.enableExtrapolation()
bumped_curve = ql.DefaultProbabilityTermStructureHandle(bumped_hazard)


results_cs01 = []

for figi in ibm_figis:
    details = bond_symbology[bond_symbology["figi"]==figi].iloc[0].to_dict()
    bond = create_bond_from_symbology(details)

    base_engine = ql.RiskyBondEngine(default_prob_curve_handle, flat_recovery_rate, tsy_yield_curve_handle)
    bond.setPricingEngine(base_engine)
    clean_price_base = bond.cleanPrice()
    dirty_price_base = bond.dirtyPrice()
    bump_engine = ql.RiskyBondEngine(bumped_curve,flat_recovery_rate,tsy_yield_curve_handle)
    bond.setPricingEngine(bump_engine)
    clean_price_bump = bond.cleanPrice()

    cs01 = (clean_price_bump - clean_price_base) * 1e4 / 100

    results_cs01.append({
            'FIGI':       figi,
            'CleanPrice': clean_price_base,
            'DirtyPrice': dirty_price_base,
            'CS01($)':    cs01
        })

pd.DataFrame(results_cs01).set_index('FIGI')








results_rec01 = []
flat_recovery_bumped = flat_recovery_rate + 0.01
for figi in ibm_figis:
    details = bond_symbology[bond_symbology["figi"]==figi].iloc[0].to_dict()
    bond = create_bond_from_symbology(details)
    base_engine = ql.RiskyBondEngine(default_prob_curve_handle, flat_recovery_rate,tsy_yield_curve_handle)
    bond.setPricingEngine(base_engine)
    price_base = bond.cleanPrice()
    dirty_price_base = bond.dirtyPrice()

    bump_engine = ql.RiskyBondEngine(bumped_curve,flat_recovery_bumped,tsy_yield_curve_handle)
    bond.setPricingEngine(bump_engine)
    clean_price_bump = bond.cleanPrice()
    
    rec01 = (clean_price_bump - price_base)*10000/100
    
    results_rec01.append({
            'FIGI':       figi,
            'CleanPrice': clean_price_base,
            'DirtyPrice': dirty_price_base,
            'REC01($)':    rec01
        })
pd.DataFrame(results_rec01).set_index('FIGI')
