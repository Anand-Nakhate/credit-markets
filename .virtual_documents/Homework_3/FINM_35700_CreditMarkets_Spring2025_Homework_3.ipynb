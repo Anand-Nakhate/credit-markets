

















import QuantLib as ql
import pandas as pd

# import tools from previous homeworks
from credit_market_tools import *

# Use static calculation/valuation date of 2024-12-13, matching data available in the market prices EOD file
calc_date = ql.Date(13, 12, 2024)
ql.Settings.instance().evaluationDate = calc_date











def calc_yield_to_worst(
            details: dict,
            pc_schedule: pd.DataFrame,
            bond_clean_price: float,
            calc_date: ql.Date):
    '''Computes yield-to-worst and workout date for fixed rate callable bonds.
    '''    
    
    # iterate over the call schdeule entries and compute the scenario yields
    # Identify the smalles yield as "yield-to-worst"
    
    # update code!!!
    workout_date = ql.Date()    # compute workout date !!!
    yield_to_worst = 0.05       # compute yield to worst !!!    
    
    return workout_date, yield_to_worst











# import tools from previous homeworks
from credit_market_tools import *

# Use static calculation/valuation date of 2024-12-13, matching data available in the market prices EOD file
calc_date = ql.Date(13, 12, 2024)
ql.Settings.instance().evaluationDate = calc_date


# Use the bond_details template below to quickly define the bond specs
test_bond_details = {'class': 'Corp',
                'start_date': 'YYYY-MM-DD', 
                'acc_first': 'YYYY-MM-DD', 
                'maturity': 'YYYY-MM-DD', 
                'coupon': 5,
                'dcc' : '30/360',
                'days_settle' : 1}

# Use create_bond_from_symbology() to create the bond from the bond details dictionary














# import libraries
import sympy as sp

# define fixed rate bond specs as symbolic variables
T = sp.symbols('T')
c = sp.symbols('c')
y = sp.symbols('y')

# define symbolic equation for generic fixed rate bond pv
bond_pv_eq =  1 + (c/2  / (sp.exp(y/2) - 1) - 1 )* (1 - sp.exp(-T*y))
print('Analytic formula for bond_pv:', bond_pv_eq)
display(bond_pv_eq)









